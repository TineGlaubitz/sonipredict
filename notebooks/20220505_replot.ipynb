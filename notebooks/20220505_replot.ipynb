{
 "cells": [
  {
   "cell_type": "markdown",
   "metadata": {},
   "source": [
    "# Plot all results "
   ]
  },
  {
   "cell_type": "code",
   "execution_count": 1,
   "metadata": {},
   "outputs": [],
   "source": [
    "import matplotlib.pyplot as plt\n",
    "import pickle\n",
    "from glob import glob\n",
    "import numpy as np\n",
    "\n",
    "from sklearn.metrics import r2_score\n",
    "\n",
    "plt.style.use([\"science\", \"nature\", \"std-colors\"])\n",
    "\n",
    "colors = [\"#0C5DA5\", \"#00B945\", \"#FF9500\", \"#FF2C00\", \"#845B97\", \"#474747\", \"#9e9e9e\"]\n",
    "\n",
    "LOG_CONVERSION = np.log(10)"
   ]
  },
  {
   "cell_type": "markdown",
   "metadata": {},
   "source": [
    "This assumes that you have for folders named `lab_z_av`, `lab_pdi`, 'merged_z_av', `merged_pdi` with contents created using the commant `sonipredict.tune_pred`."
   ]
  },
  {
   "cell_type": "code",
   "execution_count": 11,
   "metadata": {},
   "outputs": [],
   "source": [
    "z_av_lab = glob(\"lab_z_av/*.pkl\")\n",
    "pdi_lab = glob(\"lab_pdi/*.pkl\")\n",
    "\n",
    "\n",
    "z_av_merged = glob(\"merged_z_av/*.pkl\")\n",
    "pdi_merged = glob(\"merged_pdi/*.pkl\")"
   ]
  },
  {
   "cell_type": "code",
   "execution_count": 12,
   "metadata": {},
   "outputs": [],
   "source": [
    "def filter_out_res(files):\n",
    "    z_av_lab_res = []\n",
    "\n",
    "    for f in files:\n",
    "        NOT_IN_NAME = True\n",
    "        for name in [\"shap\", \"params\", \"model\"]:\n",
    "            if name in f:\n",
    "                NOT_IN_NAME = False\n",
    "        if NOT_IN_NAME:\n",
    "            z_av_lab_res.append(f)\n",
    "\n",
    "    return z_av_lab_res"
   ]
  },
  {
   "cell_type": "code",
   "execution_count": 13,
   "metadata": {},
   "outputs": [],
   "source": [
    "def read_pkl(f):\n",
    "    with open(f, \"rb\") as handle:\n",
    "        return pickle.load(handle)"
   ]
  },
  {
   "cell_type": "code",
   "execution_count": 14,
   "metadata": {},
   "outputs": [],
   "source": [
    "def compute_metrics(results):\n",
    "    r2_scores = []\n",
    "\n",
    "    for result in results:\n",
    "        true = result[\"test\"][\"labels\"][\"mean\"]\n",
    "        pred = result[\"test\"][\"prediction\"][\"mean\"]\n",
    "        r2_scores.append(r2_score(true,pred))\n",
    "\n",
    "    return r2_scores, np.argmax(r2_scores)"
   ]
  },
  {
   "cell_type": "code",
   "execution_count": 15,
   "metadata": {},
   "outputs": [],
   "source": [
    "def load_results(files):\n",
    "    all_results = []\n",
    "\n",
    "    for f in filter_out_res(files):\n",
    "        all_results.append(read_pkl(f))\n",
    "    \n",
    "    return all_results"
   ]
  },
  {
   "cell_type": "code",
   "execution_count": 16,
   "metadata": {},
   "outputs": [],
   "source": [
    "lab_z_av_results = load_results(z_av_lab)\n",
    "lab_pdi_results = load_results(pdi_lab)\n",
    "\n",
    "merged_z_av_results = load_results(z_av_merged)\n",
    "merged_pdi_results = load_results(pdi_merged)"
   ]
  },
  {
   "cell_type": "code",
   "execution_count": 17,
   "metadata": {},
   "outputs": [
    {
     "ename": "ValueError",
     "evalue": "attempt to get argmax of an empty sequence",
     "output_type": "error",
     "traceback": [
      "\u001b[0;31m---------------------------------------------------------------------------\u001b[0m",
      "\u001b[0;31mValueError\u001b[0m                                Traceback (most recent call last)",
      "\u001b[1;32m/Users/kevinmaikjablonka/git/kjappelbaum/sonipredict/notebooks/20220505_replot.ipynb Cell 10'\u001b[0m in \u001b[0;36m<cell line: 1>\u001b[0;34m()\u001b[0m\n\u001b[0;32m----> <a href='vscode-notebook-cell:/Users/kevinmaikjablonka/git/kjappelbaum/sonipredict/notebooks/20220505_replot.ipynb#ch0000009?line=0'>1</a>\u001b[0m r2_scores_lab_z_av, best_lab_z_av \u001b[39m=\u001b[39m compute_metrics(lab_z_av_results)\n\u001b[1;32m      <a href='vscode-notebook-cell:/Users/kevinmaikjablonka/git/kjappelbaum/sonipredict/notebooks/20220505_replot.ipynb#ch0000009?line=1'>2</a>\u001b[0m r2_scores_lab_pdi, best_lab_pdi \u001b[39m=\u001b[39m compute_metrics(lab_pdi_results)\n\u001b[1;32m      <a href='vscode-notebook-cell:/Users/kevinmaikjablonka/git/kjappelbaum/sonipredict/notebooks/20220505_replot.ipynb#ch0000009?line=3'>4</a>\u001b[0m r2_scores_merged_z_av, best_merged_z_av \u001b[39m=\u001b[39m compute_metrics(merged_z_av_results)\n",
      "\u001b[1;32m/Users/kevinmaikjablonka/git/kjappelbaum/sonipredict/notebooks/20220505_replot.ipynb Cell 7'\u001b[0m in \u001b[0;36mcompute_metrics\u001b[0;34m(results)\u001b[0m\n\u001b[1;32m      <a href='vscode-notebook-cell:/Users/kevinmaikjablonka/git/kjappelbaum/sonipredict/notebooks/20220505_replot.ipynb#ch0000006?line=5'>6</a>\u001b[0m     pred \u001b[39m=\u001b[39m result[\u001b[39m\"\u001b[39m\u001b[39mtest\u001b[39m\u001b[39m\"\u001b[39m][\u001b[39m\"\u001b[39m\u001b[39mprediction\u001b[39m\u001b[39m\"\u001b[39m][\u001b[39m\"\u001b[39m\u001b[39mmean\u001b[39m\u001b[39m\"\u001b[39m]\n\u001b[1;32m      <a href='vscode-notebook-cell:/Users/kevinmaikjablonka/git/kjappelbaum/sonipredict/notebooks/20220505_replot.ipynb#ch0000006?line=6'>7</a>\u001b[0m     r2_scores\u001b[39m.\u001b[39mappend(r2_score(true,pred))\n\u001b[0;32m----> <a href='vscode-notebook-cell:/Users/kevinmaikjablonka/git/kjappelbaum/sonipredict/notebooks/20220505_replot.ipynb#ch0000006?line=8'>9</a>\u001b[0m \u001b[39mreturn\u001b[39;00m r2_scores, np\u001b[39m.\u001b[39;49margmax(r2_scores)\n",
      "File \u001b[0;32m<__array_function__ internals>:5\u001b[0m, in \u001b[0;36margmax\u001b[0;34m(*args, **kwargs)\u001b[0m\n",
      "File \u001b[0;32m~/miniconda3/envs/sonipredict/lib/python3.8/site-packages/numpy/core/fromnumeric.py:1195\u001b[0m, in \u001b[0;36margmax\u001b[0;34m(a, axis, out)\u001b[0m\n\u001b[1;32m   <a href='file:///Users/kevinmaikjablonka/miniconda3/envs/sonipredict/lib/python3.8/site-packages/numpy/core/fromnumeric.py?line=1120'>1121</a>\u001b[0m \u001b[39m@array_function_dispatch\u001b[39m(_argmax_dispatcher)\n\u001b[1;32m   <a href='file:///Users/kevinmaikjablonka/miniconda3/envs/sonipredict/lib/python3.8/site-packages/numpy/core/fromnumeric.py?line=1121'>1122</a>\u001b[0m \u001b[39mdef\u001b[39;00m \u001b[39margmax\u001b[39m(a, axis\u001b[39m=\u001b[39m\u001b[39mNone\u001b[39;00m, out\u001b[39m=\u001b[39m\u001b[39mNone\u001b[39;00m):\n\u001b[1;32m   <a href='file:///Users/kevinmaikjablonka/miniconda3/envs/sonipredict/lib/python3.8/site-packages/numpy/core/fromnumeric.py?line=1122'>1123</a>\u001b[0m     \u001b[39m\"\"\"\u001b[39;00m\n\u001b[1;32m   <a href='file:///Users/kevinmaikjablonka/miniconda3/envs/sonipredict/lib/python3.8/site-packages/numpy/core/fromnumeric.py?line=1123'>1124</a>\u001b[0m \u001b[39m    Returns the indices of the maximum values along an axis.\u001b[39;00m\n\u001b[1;32m   <a href='file:///Users/kevinmaikjablonka/miniconda3/envs/sonipredict/lib/python3.8/site-packages/numpy/core/fromnumeric.py?line=1124'>1125</a>\u001b[0m \n\u001b[0;32m   (...)\u001b[0m\n\u001b[1;32m   <a href='file:///Users/kevinmaikjablonka/miniconda3/envs/sonipredict/lib/python3.8/site-packages/numpy/core/fromnumeric.py?line=1192'>1193</a>\u001b[0m \n\u001b[1;32m   <a href='file:///Users/kevinmaikjablonka/miniconda3/envs/sonipredict/lib/python3.8/site-packages/numpy/core/fromnumeric.py?line=1193'>1194</a>\u001b[0m \u001b[39m    \"\"\"\u001b[39;00m\n\u001b[0;32m-> <a href='file:///Users/kevinmaikjablonka/miniconda3/envs/sonipredict/lib/python3.8/site-packages/numpy/core/fromnumeric.py?line=1194'>1195</a>\u001b[0m     \u001b[39mreturn\u001b[39;00m _wrapfunc(a, \u001b[39m'\u001b[39;49m\u001b[39margmax\u001b[39;49m\u001b[39m'\u001b[39;49m, axis\u001b[39m=\u001b[39;49maxis, out\u001b[39m=\u001b[39;49mout)\n",
      "File \u001b[0;32m~/miniconda3/envs/sonipredict/lib/python3.8/site-packages/numpy/core/fromnumeric.py:54\u001b[0m, in \u001b[0;36m_wrapfunc\u001b[0;34m(obj, method, *args, **kwds)\u001b[0m\n\u001b[1;32m     <a href='file:///Users/kevinmaikjablonka/miniconda3/envs/sonipredict/lib/python3.8/site-packages/numpy/core/fromnumeric.py?line=51'>52</a>\u001b[0m bound \u001b[39m=\u001b[39m \u001b[39mgetattr\u001b[39m(obj, method, \u001b[39mNone\u001b[39;00m)\n\u001b[1;32m     <a href='file:///Users/kevinmaikjablonka/miniconda3/envs/sonipredict/lib/python3.8/site-packages/numpy/core/fromnumeric.py?line=52'>53</a>\u001b[0m \u001b[39mif\u001b[39;00m bound \u001b[39mis\u001b[39;00m \u001b[39mNone\u001b[39;00m:\n\u001b[0;32m---> <a href='file:///Users/kevinmaikjablonka/miniconda3/envs/sonipredict/lib/python3.8/site-packages/numpy/core/fromnumeric.py?line=53'>54</a>\u001b[0m     \u001b[39mreturn\u001b[39;00m _wrapit(obj, method, \u001b[39m*\u001b[39;49margs, \u001b[39m*\u001b[39;49m\u001b[39m*\u001b[39;49mkwds)\n\u001b[1;32m     <a href='file:///Users/kevinmaikjablonka/miniconda3/envs/sonipredict/lib/python3.8/site-packages/numpy/core/fromnumeric.py?line=55'>56</a>\u001b[0m \u001b[39mtry\u001b[39;00m:\n\u001b[1;32m     <a href='file:///Users/kevinmaikjablonka/miniconda3/envs/sonipredict/lib/python3.8/site-packages/numpy/core/fromnumeric.py?line=56'>57</a>\u001b[0m     \u001b[39mreturn\u001b[39;00m bound(\u001b[39m*\u001b[39margs, \u001b[39m*\u001b[39m\u001b[39m*\u001b[39mkwds)\n",
      "File \u001b[0;32m~/miniconda3/envs/sonipredict/lib/python3.8/site-packages/numpy/core/fromnumeric.py:43\u001b[0m, in \u001b[0;36m_wrapit\u001b[0;34m(obj, method, *args, **kwds)\u001b[0m\n\u001b[1;32m     <a href='file:///Users/kevinmaikjablonka/miniconda3/envs/sonipredict/lib/python3.8/site-packages/numpy/core/fromnumeric.py?line=40'>41</a>\u001b[0m \u001b[39mexcept\u001b[39;00m \u001b[39mAttributeError\u001b[39;00m:\n\u001b[1;32m     <a href='file:///Users/kevinmaikjablonka/miniconda3/envs/sonipredict/lib/python3.8/site-packages/numpy/core/fromnumeric.py?line=41'>42</a>\u001b[0m     wrap \u001b[39m=\u001b[39m \u001b[39mNone\u001b[39;00m\n\u001b[0;32m---> <a href='file:///Users/kevinmaikjablonka/miniconda3/envs/sonipredict/lib/python3.8/site-packages/numpy/core/fromnumeric.py?line=42'>43</a>\u001b[0m result \u001b[39m=\u001b[39m \u001b[39mgetattr\u001b[39;49m(asarray(obj), method)(\u001b[39m*\u001b[39;49margs, \u001b[39m*\u001b[39;49m\u001b[39m*\u001b[39;49mkwds)\n\u001b[1;32m     <a href='file:///Users/kevinmaikjablonka/miniconda3/envs/sonipredict/lib/python3.8/site-packages/numpy/core/fromnumeric.py?line=43'>44</a>\u001b[0m \u001b[39mif\u001b[39;00m wrap:\n\u001b[1;32m     <a href='file:///Users/kevinmaikjablonka/miniconda3/envs/sonipredict/lib/python3.8/site-packages/numpy/core/fromnumeric.py?line=44'>45</a>\u001b[0m     \u001b[39mif\u001b[39;00m \u001b[39mnot\u001b[39;00m \u001b[39misinstance\u001b[39m(result, mu\u001b[39m.\u001b[39mndarray):\n",
      "\u001b[0;31mValueError\u001b[0m: attempt to get argmax of an empty sequence"
     ]
    }
   ],
   "source": [
    "r2_scores_lab_z_av, best_lab_z_av = compute_metrics(lab_z_av_results)\n",
    "r2_scores_lab_pdi, best_lab_pdi = compute_metrics(lab_pdi_results)\n",
    "\n",
    "r2_scores_merged_z_av, best_merged_z_av = compute_metrics(merged_z_av_results)\n",
    "r2_scores_merged_pdi, best_merged_pdi = compute_metrics(merged_pdi_results)"
   ]
  },
  {
   "cell_type": "code",
   "execution_count": 18,
   "metadata": {},
   "outputs": [],
   "source": [
    "def return_parity_plot(all_results, max_val=3.2, min_val=1.8, best_index=36, log_conversion=LOG_CONVERSION, c=colors[0]):\n",
    "    fig, ax = plt.subplots(1, 2, sharex='all', sharey='all')\n",
    "    \n",
    "    for i, res in enumerate(all_results):\n",
    "        if i == best_index:\n",
    "            continue \n",
    "        else:\n",
    "            ax[0].errorbar(\n",
    "                res[\"train\"][\"labels\"][\"mean\"] / log_conversion,\n",
    "                res[\"train\"][\"prediction\"][\"mean\"] / log_conversion,\n",
    "                yerr=res[\"train\"][\"prediction\"][\"std\"] / log_conversion,\n",
    "                xerr=res[\"train\"][\"labels\"][\"std\"] / log_conversion,\n",
    "                color='grey',\n",
    "                alpha=0.2,\n",
    "                ls=\"none\",\n",
    "                label=\"lab\",\n",
    "            )\n",
    "\n",
    "\n",
    "            ax[1].errorbar(\n",
    "                res[\"test\"][\"labels\"][\"mean\"] / log_conversion,\n",
    "                res[\"test\"][\"prediction\"][\"mean\"] / log_conversion,\n",
    "                yerr=res[\"test\"][\"prediction\"][\"std\"] / log_conversion,\n",
    "                xerr=res[\"test\"][\"labels\"][\"std\"] / log_conversion,\n",
    "                color='grey',\n",
    "                alpha=0.2,\n",
    "                ls=\"none\",\n",
    "                label=\"lab\",\n",
    "            )\n",
    "\n",
    "    # plot best on top\n",
    "    res = all_results[best_index]\n",
    "    ax[0].errorbar(\n",
    "            res[\"train\"][\"labels\"][\"mean\"] / log_conversion,\n",
    "            res[\"train\"][\"prediction\"][\"mean\"] / log_conversion,\n",
    "            yerr=res[\"train\"][\"prediction\"][\"std\"] / log_conversion,\n",
    "            xerr=res[\"train\"][\"labels\"][\"std\"] / log_conversion,\n",
    "            color=c,\n",
    "            ls=\"none\",\n",
    "            label=\"lab\",\n",
    "        )\n",
    "\n",
    "\n",
    "    ax[1].errorbar(\n",
    "        res[\"test\"][\"labels\"][\"mean\"] / log_conversion,\n",
    "        res[\"test\"][\"prediction\"][\"mean\"] / log_conversion,\n",
    "        yerr=res[\"test\"][\"prediction\"][\"std\"] / log_conversion,\n",
    "        xerr=res[\"test\"][\"labels\"][\"std\"] / log_conversion,\n",
    "        color=c,\n",
    "        ls=\"none\",\n",
    "        label=\"lab\",\n",
    "    )\n",
    "\n",
    "    ax[0].set_title(\"train\")\n",
    "    ax[1].set_title(\"test\")\n",
    "\n",
    "    ax[0].set_xlim(min_val, max_val)\n",
    "    ax[0].set_ylim(min_val, max_val)\n",
    "\n",
    "    for a in ax: \n",
    "        a.plot([min_val, max_val], [min_val, max_val], color=\"black\", ls=\"--\")\n",
    "\n",
    "    fig.text(0.5, 0.01, \"measured\", ha=\"center\")\n",
    "    ax[0].set_ylabel(\"predicted\")\n",
    "\n",
    "    fig.tight_layout()\n",
    "\n",
    "    return fig, ax"
   ]
  },
  {
   "cell_type": "code",
   "execution_count": 19,
   "metadata": {},
   "outputs": [
    {
     "ename": "NameError",
     "evalue": "name 'best_lab_z_av' is not defined",
     "output_type": "error",
     "traceback": [
      "\u001b[0;31m---------------------------------------------------------------------------\u001b[0m",
      "\u001b[0;31mNameError\u001b[0m                                 Traceback (most recent call last)",
      "\u001b[1;32m/Users/kevinmaikjablonka/git/kjappelbaum/sonipredict/notebooks/20220505_replot.ipynb Cell 12'\u001b[0m in \u001b[0;36m<cell line: 1>\u001b[0;34m()\u001b[0m\n\u001b[0;32m----> <a href='vscode-notebook-cell:/Users/kevinmaikjablonka/git/kjappelbaum/sonipredict/notebooks/20220505_replot.ipynb#ch0000011?line=0'>1</a>\u001b[0m fig, ax \u001b[39m=\u001b[39m return_parity_plot(lab_z_av_results, max_val\u001b[39m=\u001b[39m\u001b[39m3.1\u001b[39m, best_index\u001b[39m=\u001b[39mbest_lab_z_av)\n\u001b[1;32m      <a href='vscode-notebook-cell:/Users/kevinmaikjablonka/git/kjappelbaum/sonipredict/notebooks/20220505_replot.ipynb#ch0000011?line=1'>2</a>\u001b[0m fig\u001b[39m.\u001b[39msavefig(\u001b[39m'\u001b[39m\u001b[39mlab_z_av_parity.pdf\u001b[39m\u001b[39m'\u001b[39m)\n",
      "\u001b[0;31mNameError\u001b[0m: name 'best_lab_z_av' is not defined"
     ]
    }
   ],
   "source": [
    "fig, ax = return_parity_plot(lab_z_av_results, max_val=3.1, best_index=best_lab_z_av)\n",
    "fig.savefig('lab_z_av_parity.pdf')"
   ]
  },
  {
   "cell_type": "code",
   "execution_count": null,
   "metadata": {},
   "outputs": [
    {
     "data": {
      "image/png": "[encoded data removed]",
      "text/plain": [
       "<Figure size 237.6x180 with 2 Axes>"
      ]
     },
     "metadata": {
      "needs_background": "light"
     },
     "output_type": "display_data"
    }
   ],
   "source": [
    "fig, ax = return_parity_plot(merged_z_av_results,  max_val=3.1, best_index=best_merged_z_av)\n",
    "fig.savefig('merged_z_av_parity.pdf')"
   ]
  },
  {
   "cell_type": "code",
   "execution_count": null,
   "metadata": {},
   "outputs": [
    {
     "data": {
      "image/png": "[encoded data removed]",
      "text/plain": [
       "<Figure size 237.6x180 with 2 Axes>"
      ]
     },
     "metadata": {
      "needs_background": "light"
     },
     "output_type": "display_data"
    }
   ],
   "source": [
    "fig, ax = return_parity_plot(merged_pdi_results,  min_val=0, max_val=1, best_index=best_merged_pdi, log_conversion=1, c=colors[3])\n",
    "fig.savefig('merged_pdi_parity.pdf')"
   ]
  },
  {
   "cell_type": "code",
   "execution_count": null,
   "metadata": {},
   "outputs": [],
   "source": [
    "return_parity_plot(lab_pdi_results,  min_val=0, max_val=1, best_index=best_lab_pdi, log_conversion=1, c=colors[3])\n",
    "fig.savefig('lab_pdi_parity.pdf')"
   ]
  },
  {
   "cell_type": "code",
   "execution_count": null,
   "metadata": {},
   "outputs": [
    {
     "data": {
      "image/png": "[encoded data removed]",
      "text/plain": [
       "<Figure size 237.6x180 with 1 Axes>"
      ]
     },
     "metadata": {
      "needs_background": "light"
     },
     "output_type": "display_data"
    }
   ],
   "source": [
    "fig, ax = plt.subplots(1,1)\n",
    "\n",
    "ax.hist(r2_scores_lab_z_av, bins=50, color=colors[0])\n",
    "ax.set_xlabel(r\"r$^2$ score\")\n",
    "fig.tight_layout()\n",
    "fig.savefig('lab_z_av_r2_hist.pdf')"
   ]
  },
  {
   "cell_type": "code",
   "execution_count": null,
   "metadata": {},
   "outputs": [
    {
     "data": {
      "image/png": "[encoded data removed]",
      "text/plain": [
       "<Figure size 237.6x180 with 1 Axes>"
      ]
     },
     "metadata": {
      "needs_background": "light"
     },
     "output_type": "display_data"
    }
   ],
   "source": [
    "fig, ax = plt.subplots(1,1)\n",
    "\n",
    "ax.hist(r2_scores_lab_pdi, bins=50, color=colors[0])\n",
    "ax.set_xlabel(r\"r$^2$ score\")\n",
    "fig.tight_layout()\n",
    "fig.savefig('lab_z_pdi_r2_hist.pdf')"
   ]
  },
  {
   "cell_type": "code",
   "execution_count": 9,
   "metadata": {},
   "outputs": [
    {
     "ename": "NameError",
     "evalue": "name 'r2_scores_merged_pdi' is not defined",
     "output_type": "error",
     "traceback": [
      "\u001b[0;31m---------------------------------------------------------------------------\u001b[0m",
      "\u001b[0;31mNameError\u001b[0m                                 Traceback (most recent call last)",
      "\u001b[1;32m/Users/kevinmaikjablonka/git/kjappelbaum/sonipredict/notebooks/20220505_replot.ipynb Cell 18'\u001b[0m in \u001b[0;36m<cell line: 3>\u001b[0;34m()\u001b[0m\n\u001b[1;32m      <a href='vscode-notebook-cell:/Users/kevinmaikjablonka/git/kjappelbaum/sonipredict/notebooks/20220505_replot.ipynb#ch0000017?line=0'>1</a>\u001b[0m fig, ax \u001b[39m=\u001b[39m plt\u001b[39m.\u001b[39msubplots(\u001b[39m1\u001b[39m,\u001b[39m1\u001b[39m)\n\u001b[0;32m----> <a href='vscode-notebook-cell:/Users/kevinmaikjablonka/git/kjappelbaum/sonipredict/notebooks/20220505_replot.ipynb#ch0000017?line=2'>3</a>\u001b[0m ax\u001b[39m.\u001b[39mhist(r2_scores_merged_pdi, bins\u001b[39m=\u001b[39m\u001b[39m50\u001b[39m, color\u001b[39m=\u001b[39mcolors[\u001b[39m0\u001b[39m])\n\u001b[1;32m      <a href='vscode-notebook-cell:/Users/kevinmaikjablonka/git/kjappelbaum/sonipredict/notebooks/20220505_replot.ipynb#ch0000017?line=3'>4</a>\u001b[0m ax\u001b[39m.\u001b[39mset_xlabel(\u001b[39mr\u001b[39m\u001b[39m\"\u001b[39m\u001b[39mr$^2$ score\u001b[39m\u001b[39m\"\u001b[39m)\n\u001b[1;32m      <a href='vscode-notebook-cell:/Users/kevinmaikjablonka/git/kjappelbaum/sonipredict/notebooks/20220505_replot.ipynb#ch0000017?line=4'>5</a>\u001b[0m fig\u001b[39m.\u001b[39mtight_layout()\n",
      "\u001b[0;31mNameError\u001b[0m: name 'r2_scores_merged_pdi' is not defined"
     ]
    },
    {
     "data": {
      "image/png": "[encoded data removed]",
      "text/plain": [
       "<Figure size 432x288 with 1 Axes>"
      ]
     },
     "metadata": {
      "needs_background": "light"
     },
     "output_type": "display_data"
    }
   ],
   "source": [
    "fig, ax = plt.subplots(1,1)\n",
    "\n",
    "ax.hist(r2_scores_merged_pdi, bins=50, color=colors[0])\n",
    "ax.set_xlabel(r\"r$^2$ score\")\n",
    "fig.tight_layout()\n",
    "fig.savefig('merged_pdi_r2_hist.pdf')"
   ]
  },
  {
   "cell_type": "code",
   "execution_count": null,
   "metadata": {},
   "outputs": [
    {
     "data": {
      "image/png": "[encoded data removed]",
      "text/plain": [
       "<Figure size 237.6x180 with 1 Axes>"
      ]
     },
     "metadata": {
      "needs_background": "light"
     },
     "output_type": "display_data"
    }
   ],
   "source": [
    "fig, ax = plt.subplots(1,1)\n",
    "\n",
    "ax.hist(r2_scores_merged_z_av, bins=50, color=colors[0])\n",
    "ax.set_xlabel(r\"r$^2$ score\")\n",
    "fig.tight_layout()\n",
    "fig.savefig('merged_z_av_r2_hist.pdf')"
   ]
  },
  {
   "cell_type": "code",
   "execution_count": 10,
   "metadata": {},
   "outputs": [
    {
     "ename": "NameError",
     "evalue": "name 'best_lab_z_av' is not defined",
     "output_type": "error",
     "traceback": [
      "\u001b[0;31m---------------------------------------------------------------------------\u001b[0m",
      "\u001b[0;31mNameError\u001b[0m                                 Traceback (most recent call last)",
      "\u001b[1;32m/Users/kevinmaikjablonka/git/kjappelbaum/sonipredict/notebooks/20220505_replot.ipynb Cell 20'\u001b[0m in \u001b[0;36m<cell line: 1>\u001b[0;34m()\u001b[0m\n\u001b[0;32m----> <a href='vscode-notebook-cell:/Users/kevinmaikjablonka/git/kjappelbaum/sonipredict/notebooks/20220505_replot.ipynb#ch0000019?line=0'>1</a>\u001b[0m \u001b[39mprint\u001b[39m(\u001b[39m\"\u001b[39m\u001b[39mlab_z_av:\u001b[39m\u001b[39m\"\u001b[39m, best_lab_z_av)\n\u001b[1;32m      <a href='vscode-notebook-cell:/Users/kevinmaikjablonka/git/kjappelbaum/sonipredict/notebooks/20220505_replot.ipynb#ch0000019?line=1'>2</a>\u001b[0m \u001b[39mprint\u001b[39m(\u001b[39m\"\u001b[39m\u001b[39mlab_pdi:\u001b[39m\u001b[39m\"\u001b[39m, best_lab_pdi)\n\u001b[1;32m      <a href='vscode-notebook-cell:/Users/kevinmaikjablonka/git/kjappelbaum/sonipredict/notebooks/20220505_replot.ipynb#ch0000019?line=2'>3</a>\u001b[0m \u001b[39mprint\u001b[39m(\u001b[39m\"\u001b[39m\u001b[39mmerged_z_av:\u001b[39m\u001b[39m\"\u001b[39m, best_merged_z_av)\n",
      "\u001b[0;31mNameError\u001b[0m: name 'best_lab_z_av' is not defined"
     ]
    }
   ],
   "source": [
    "print(\"lab_z_av:\", best_lab_z_av)\n",
    "print(\"lab_pdi:\", best_lab_pdi)\n",
    "print(\"merged_z_av:\", best_merged_z_av)\n",
    "print(\"merged_pdi:\", best_merged_pdi)"
   ]
  },
  {
   "cell_type": "code",
   "execution_count": null,
   "metadata": {},
   "outputs": [],
   "source": []
  }
 ],
 "metadata": {
  "interpreter": {
   "hash": "f31bf3eb7fb70d3a0edbcbc6ed96b8dc132ef4553245a413f99ff4d1fb08703b"
  },
  "kernelspec": {
   "display_name": "Python 3.8.13 ('sonipredict')",
   "language": "python",
   "name": "python3"
  },
  "language_info": {
   "codemirror_mode": {
    "name": "ipython",
    "version": 3
   },
   "file_extension": ".py",
   "mimetype": "text/x-python",
   "name": "python",
   "nbconvert_exporter": "python",
   "pygments_lexer": "ipython3",
   "version": "3.8.13"
  },
  "orig_nbformat": 4
 },
 "nbformat": 4,
 "nbformat_minor": 2
}
